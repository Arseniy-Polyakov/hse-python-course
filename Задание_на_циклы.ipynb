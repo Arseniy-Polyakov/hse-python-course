{
  "nbformat": 4,
  "nbformat_minor": 0,
  "metadata": {
    "colab": {
      "provenance": [],
      "authorship_tag": "ABX9TyPnfKuwGVUf8atp7ZrvxC+u",
      "include_colab_link": true
    },
    "kernelspec": {
      "name": "python3",
      "display_name": "Python 3"
    },
    "language_info": {
      "name": "python"
    }
  },
  "cells": [
    {
      "cell_type": "markdown",
      "metadata": {
        "id": "view-in-github",
        "colab_type": "text"
      },
      "source": [
        "<a href=\"https://colab.research.google.com/github/vifirsanova/hse-python-course/blob/main/%D0%97%D0%B0%D0%B4%D0%B0%D0%BD%D0%B8%D0%B5_%D0%BD%D0%B0_%D1%86%D0%B8%D0%BA%D0%BB%D1%8B.ipynb\" target=\"_parent\"><img src=\"https://colab.research.google.com/assets/colab-badge.svg\" alt=\"Open In Colab\"/></a>"
      ]
    },
    {
      "cell_type": "markdown",
      "source": [
        "```Авторский курс Виктории Фирсановой по Python для Data Science и NLP. Разработан специально для петербургского кампуса НИУ ВШЭ```"
      ],
      "metadata": {
        "id": "SNwhjSmrI2L7"
      }
    },
    {
      "cell_type": "markdown",
      "source": [
        "Загружаем датасет киноотзывов с NLTK"
      ],
      "metadata": {
        "id": "ve58EM53HdHC"
      }
    },
    {
      "cell_type": "code",
      "execution_count": null,
      "metadata": {
        "colab": {
          "base_uri": "https://localhost:8080/"
        },
        "id": "m8TLWyIoG_kS",
        "outputId": "08118646-9a9a-4b7e-eee8-ae597f15290a"
      },
      "outputs": [
        {
          "output_type": "stream",
          "name": "stderr",
          "text": [
            "[nltk_data] Downloading package movie_reviews to /root/nltk_data...\n",
            "[nltk_data]   Unzipping corpora/movie_reviews.zip.\n"
          ]
        },
        {
          "output_type": "execute_result",
          "data": {
            "text/plain": [
              "True"
            ]
          },
          "metadata": {},
          "execution_count": 9
        }
      ],
      "source": [
        "import nltk\n",
        "from nltk.corpus import movie_reviews\n",
        "\n",
        "nltk.download(\"movie_reviews\")"
      ]
    },
    {
      "cell_type": "code",
      "source": [
        "# Извлекаем положительные и негативные отзывы\n",
        "\n",
        "positive_reviews = movie_reviews.fileids(\"pos\")\n",
        "negative_reviews = movie_reviews.fileids(\"neg\")"
      ],
      "metadata": {
        "id": "xnNp8AGUHbTh"
      },
      "execution_count": null,
      "outputs": []
    },
    {
      "cell_type": "markdown",
      "source": [
        "**Задание 1**\n",
        "\n",
        "Посчитать среднюю длину положительных отзывов в словах"
      ],
      "metadata": {
        "id": "B1RLdPhnIcTy"
      }
    },
    {
      "cell_type": "code",
      "source": [
        "# считаем длину отзывов\n",
        "# создаем переменную, куда сохраним длину отзывов\n",
        "total_length = ### ваш код здесь\n",
        "# цикл для каждого отзыва в списке положительных отзывов\n",
        "for ### ваш код здесь\n",
        "    # извлекаем слова в каждом отзыве\n",
        "    words = movie_reviews.words(fileids=[review_id])\n",
        "    # добавляем в переменную total_length количество извлеченных слов (длину списка слов)\n",
        "    total_length += len(words)\n",
        "\n",
        "# делим длину отзывов на количество положительных отзывов (длину списка положительных отзывов)\n",
        "average_length_positive = ### ваш код здесь\n",
        "print(f\"Средняя длина положительных отзывов: {average_length_positive:.2f} слов\")"
      ],
      "metadata": {
        "id": "FDeVLc-wH7bC"
      },
      "execution_count": null,
      "outputs": []
    },
    {
      "cell_type": "markdown",
      "source": [
        "**Задание 2**\n",
        "\n",
        "Посчитать среднюю длину негативных отзывов в словах"
      ],
      "metadata": {
        "id": "XYqs6sMFIgA7"
      }
    },
    {
      "cell_type": "code",
      "source": [
        "total_length = ### ваш код здесь\n",
        "for ### ваш код здесь\n",
        "    words = movie_reviews.words(fileids=[review_id])\n",
        "    total_length += ### ваш код здесь\n",
        "\n",
        "average_length_negative = total_length / len(negative_reviews)\n",
        "print(f\"Средняя длина негативных отзывов: {average_length_negative:.2f} слов\")"
      ],
      "metadata": {
        "id": "Yb8LC0zrH5H0"
      },
      "execution_count": null,
      "outputs": []
    }
  ]
}