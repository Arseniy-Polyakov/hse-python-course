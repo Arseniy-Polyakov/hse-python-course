{
  "nbformat": 4,
  "nbformat_minor": 0,
  "metadata": {
    "colab": {
      "provenance": [],
      "authorship_tag": "ABX9TyOjeogPKuGaEGln+mYBKDh5",
      "include_colab_link": true
    },
    "kernelspec": {
      "name": "python3",
      "display_name": "Python 3"
    },
    "language_info": {
      "name": "python"
    }
  },
  "cells": [
    {
      "cell_type": "markdown",
      "metadata": {
        "id": "view-in-github",
        "colab_type": "text"
      },
      "source": [
        "<a href=\"https://colab.research.google.com/github/vifirsanova/hse-python-course/blob/main/exam.ipynb\" target=\"_parent\"><img src=\"https://colab.research.google.com/assets/colab-badge.svg\" alt=\"Open In Colab\"/></a>"
      ]
    },
    {
      "cell_type": "markdown",
      "source": [
        "# Импорт библиотек и загрузка данных"
      ],
      "metadata": {
        "id": "5Y1SHnawu0e0"
      }
    },
    {
      "cell_type": "markdown",
      "source": [
        "Загрузка данных"
      ],
      "metadata": {
        "id": "-2moqcC5vKSn"
      }
    },
    {
      "cell_type": "code",
      "source": [
        "!wget https://raw.githubusercontent.com/brunoklein99/deep-learning-notes/master/shakespeare.txt"
      ],
      "metadata": {
        "id": "CCRwrYb6vRxq"
      },
      "execution_count": null,
      "outputs": []
    },
    {
      "cell_type": "markdown",
      "source": [
        "Импорт библиотек"
      ],
      "metadata": {
        "id": "yOG5HhETvaVW"
      }
    },
    {
      "cell_type": "code",
      "source": [
        "import ..."
      ],
      "metadata": {
        "id": "WEw4jS1QvZnj"
      },
      "execution_count": null,
      "outputs": []
    },
    {
      "cell_type": "markdown",
      "source": [
        "# Экзаменационное задание"
      ],
      "metadata": {
        "id": "SZmaaWA9wCbq"
      }
    },
    {
      "cell_type": "code",
      "source": [
        "def open_file(file_path):\n",
        "  pass"
      ],
      "metadata": {
        "id": "Mz5pTfVFyPbA"
      },
      "execution_count": null,
      "outputs": []
    },
    {
      "cell_type": "code",
      "source": [
        "def tokenize_text(text):\n",
        "  pass"
      ],
      "metadata": {
        "id": "ABkVAtL_yGGD"
      },
      "execution_count": null,
      "outputs": []
    },
    {
      "cell_type": "code",
      "source": [
        "def remove_stopwords(tokens):\n",
        "  pass"
      ],
      "metadata": {
        "id": "mc1E1lQByLqU"
      },
      "execution_count": null,
      "outputs": []
    },
    {
      "cell_type": "code",
      "source": [
        "def word_frequency_analysis(file_path, n=5):\n",
        "    # open file\n",
        "    # tokenize text\n",
        "    # remove stopwords\n",
        "    # calculate word frequencies\n",
        "    # print n word:frequencies pairs\n",
        "    pass"
      ],
      "metadata": {
        "id": "2xEZ1YCazlJq"
      },
      "execution_count": null,
      "outputs": []
    },
    {
      "cell_type": "code",
      "source": [
        "file_path = 'shakespeare.txt'\n",
        "word_frequency_analysis(file_path, 10)"
      ],
      "metadata": {
        "id": "BZQ_ThBCzjdw"
      },
      "execution_count": null,
      "outputs": []
    }
  ]
}